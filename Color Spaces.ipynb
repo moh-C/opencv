{
 "cells": [
  {
   "cell_type": "code",
   "execution_count": 1,
   "metadata": {},
   "outputs": [],
   "source": [
    "import cv2\n",
    "import numpy as np\n",
    "\n",
    "image = cv2.imread('./images/input.jpg')"
   ]
  },
  {
   "cell_type": "code",
   "execution_count": 2,
   "metadata": {},
   "outputs": [
    {
     "name": "stdout",
     "output_type": "stream",
     "text": [
      "12 19 34\n",
      "(415, 622, 3)\n"
     ]
    }
   ],
   "source": [
    "# BGR Values for the first 0,0 pixel\n",
    "B, G, R = image[10, 50] \n",
    "print(B, G, R)\n",
    "print(image.shape)"
   ]
  },
  {
   "cell_type": "code",
   "execution_count": 3,
   "metadata": {},
   "outputs": [
    {
     "name": "stdout",
     "output_type": "stream",
     "text": [
      "(415, 622)\n",
      "23\n"
     ]
    }
   ],
   "source": [
    "gray_img = cv2.cvtColor(image, cv2.COLOR_BGR2GRAY)\n",
    "print(gray_img.shape)\n",
    "print(gray_img[10, 50]) "
   ]
  },
  {
   "cell_type": "code",
   "execution_count": 4,
   "metadata": {},
   "outputs": [
    {
     "data": {
      "text/plain": [
       "21"
      ]
     },
     "execution_count": 4,
     "metadata": {},
     "output_type": "execute_result"
    }
   ],
   "source": [
    "gray_img[0, 0] "
   ]
  },
  {
   "cell_type": "code",
   "execution_count": 5,
   "metadata": {},
   "outputs": [
    {
     "data": {
      "text/plain": [
       "23"
      ]
     },
     "execution_count": 5,
     "metadata": {},
     "output_type": "execute_result"
    }
   ],
   "source": [
    "gray_img[10, 50] "
   ]
  },
  {
   "cell_type": "code",
   "execution_count": null,
   "metadata": {},
   "outputs": [],
   "source": [
    "#H: 0 - 180, S: 0 - 255, V: 0 - 255\n",
    "\n",
    "image = cv2.imread('./images/input.jpg')\n",
    "\n",
    "hsv_image = cv2.cvtColor(image, cv2.COLOR_BGR2HSV)\n",
    "\n",
    "cv2.imshow('HSV image', hsv_image)\n",
    "cv2.imshow('Hue channel', hsv_image[:, :, 0])\n",
    "cv2.imshow('Saturation channel', hsv_image[:, :, 1])\n",
    "cv2.imshow('Value channel', hsv_image[:, :, 2])\n",
    "\n",
    "cv2.waitKey()\n",
    "cv2.destroyAllWindows()"
   ]
  },
  {
   "cell_type": "code",
   "execution_count": null,
   "metadata": {},
   "outputs": [],
   "source": [
    "image = cv2.imread('./images/input.jpg')\n",
    "\n",
    "# OpenCV's 'split' function splites the image into each color index\n",
    "B, G, R = cv2.split(image)\n",
    "\n",
    "print(B.shape)\n",
    "cv2.imshow(\"Red\", R)\n",
    "cv2.imshow(\"Green\", G)\n",
    "cv2.imshow(\"Blue\", B)\n",
    "cv2.waitKey(0)\n",
    "cv2.destroyAllWindows()\n",
    "\n",
    "# Let's re-make the original image, \n",
    "merged = cv2.merge([B, G, R]) \n",
    "cv2.imshow(\"Merged\", merged) \n",
    "\n",
    "# Let's amplify the blue color\n",
    "merged = cv2.merge([B+100, G, R])\n",
    "cv2.imshow(\"Merged with Blue Amplified\", merged) \n",
    "\n",
    "cv2.waitKey(0)\n",
    "cv2.destroyAllWindows()"
   ]
  },
  {
   "cell_type": "code",
   "execution_count": 7,
   "metadata": {},
   "outputs": [],
   "source": [
    "import cv2\n",
    "import numpy as np\n",
    "\n",
    "B = image[:,:,0]\n",
    "G = image[:,:,1]\n",
    "R = image[:,:,2]\n",
    "\n",
    "# Let's create a matrix of zeros \n",
    "# with dimensions of the image h x w  \n",
    "zeros = np.zeros(image.shape[:2], dtype = \"uint8\")\n",
    "\n",
    "cv2.imshow(\"Red\", cv2.merge([zeros, zeros, R]))\n",
    "cv2.imshow(\"Green\", cv2.merge([zeros, G, zeros]))\n",
    "cv2.imshow(\"Blue\", cv2.merge([B, zeros, zeros]))\n",
    "\n",
    "cv2.waitKey(0)\n",
    "cv2.destroyAllWindows()"
   ]
  },
  {
   "cell_type": "code",
   "execution_count": null,
   "metadata": {},
   "outputs": [],
   "source": [
    "image.shape[:2]"
   ]
  },
  {
   "cell_type": "code",
   "execution_count": null,
   "metadata": {},
   "outputs": [],
   "source": []
  }
 ],
 "metadata": {
  "kernelspec": {
   "display_name": "Python 3",
   "language": "python",
   "name": "python3"
  },
  "language_info": {
   "codemirror_mode": {
    "name": "ipython",
    "version": 3
   },
   "file_extension": ".py",
   "mimetype": "text/x-python",
   "name": "python",
   "nbconvert_exporter": "python",
   "pygments_lexer": "ipython3",
   "version": "3.7.3"
  }
 },
 "nbformat": 4,
 "nbformat_minor": 2
}
